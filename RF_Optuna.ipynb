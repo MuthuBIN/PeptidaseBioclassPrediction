{
 "cells": [
  {
   "cell_type": "code",
   "execution_count": 3,
   "id": "033c013f-9fa9-4fc3-aba5-f26f8c9fc36e",
   "metadata": {},
   "outputs": [],
   "source": [
    "import optuna\n",
    "import pandas as pd\n",
    "from sklearn.datasets import load_breast_cancer\n",
    "from sklearn.ensemble import RandomForestClassifier\n",
    "from sklearn.model_selection import cross_val_score, StratifiedKFold\n",
    "from sklearn.preprocessing import StandardScaler\n",
    "from sklearn.pipeline import Pipeline"
   ]
  },
  {
   "cell_type": "code",
   "execution_count": null,
   "id": "cbec1c3b-110e-4019-bf2c-0c6f493ba9cb",
   "metadata": {},
   "outputs": [],
   "source": []
  },
  {
   "cell_type": "code",
   "execution_count": 5,
   "id": "239fb464-eb5b-4200-b2ef-0e5eea7a7f5a",
   "metadata": {},
   "outputs": [],
   "source": [
    "# Load dataset\n",
    "# Load data from CSV\n",
    "df = pd.read_csv('Selected_fingerprints.csv')\n",
    "\n",
    "### 5. Define and Optimize the Model with Optuna\n",
    "\n",
    "X = df.drop(['IC50_label', 'smiles'], axis=1)\n",
    "y = df['IC50_label']"
   ]
  },
  {
   "cell_type": "code",
   "execution_count": 6,
   "id": "c3692994-91e4-4c9a-824d-62d700193021",
   "metadata": {},
   "outputs": [],
   "source": [
    "from sklearn.model_selection import train_test_split, cross_val_score"
   ]
  },
  {
   "cell_type": "code",
   "execution_count": 7,
   "id": "d9d7f71f-81be-4c80-8468-9036b666bac8",
   "metadata": {},
   "outputs": [],
   "source": [
    "X_train, X_test, y_train, y_test = train_test_split(X, y, test_size=0.2, random_state=42)"
   ]
  },
  {
   "cell_type": "code",
   "execution_count": null,
   "id": "5285d551-1e15-435a-8c50-d2d6d95949e1",
   "metadata": {},
   "outputs": [
    {
     "name": "stderr",
     "output_type": "stream",
     "text": [
      "[I 2024-09-20 11:57:58,954] A new study created in memory with name: no-name-dd312d1a-ec15-42b4-a83d-a8a2b6f5f64f\n",
      "[I 2024-09-20 11:58:32,576] Trial 0 finished with value: 0.6872698158526821 and parameters: {'n_estimators': 467, 'max_depth': 8, 'min_samples_split': 10, 'min_samples_leaf': 2}. Best is trial 0 with value: 0.6872698158526821.\n",
      "[I 2024-09-20 11:58:44,704] Trial 1 finished with value: 0.6052842273819056 and parameters: {'n_estimators': 381, 'max_depth': 3, 'min_samples_split': 3, 'min_samples_leaf': 1}. Best is trial 0 with value: 0.6872698158526821.\n",
      "[I 2024-09-20 11:59:29,897] Trial 2 finished with value: 0.7231385108086469 and parameters: {'n_estimators': 435, 'max_depth': 11, 'min_samples_split': 9, 'min_samples_leaf': 3}. Best is trial 2 with value: 0.7231385108086469.\n",
      "[I 2024-09-20 11:59:35,726] Trial 3 finished with value: 0.6738190552441954 and parameters: {'n_estimators': 94, 'max_depth': 7, 'min_samples_split': 5, 'min_samples_leaf': 1}. Best is trial 2 with value: 0.7231385108086469.\n",
      "[I 2024-09-20 12:00:36,535] Trial 4 finished with value: 0.7809447558046437 and parameters: {'n_estimators': 317, 'max_depth': 20, 'min_samples_split': 5, 'min_samples_leaf': 3}. Best is trial 4 with value: 0.7809447558046437.\n",
      "[I 2024-09-20 12:01:31,251] Trial 5 finished with value: 0.7585268214571658 and parameters: {'n_estimators': 368, 'max_depth': 16, 'min_samples_split': 8, 'min_samples_leaf': 4}. Best is trial 4 with value: 0.7809447558046437.\n"
     ]
    }
   ],
   "source": [
    "### 5. Define and Optimize the Model with Optuna\n",
    "\n",
    "### 5. *Optuna for Random Forest*\n",
    "\n",
    "### 5. *Random Forest*\n",
    "from sklearn.metrics import accuracy_score\n",
    "import pickle\n",
    "from sklearn.ensemble import RandomForestClassifier\n",
    "\n",
    "def objective_rf(trial):\n",
    "    param = {\n",
    "        'n_estimators': trial.suggest_int('n_estimators', 50, 500),\n",
    "        'max_depth': trial.suggest_int('max_depth', 2, 20),\n",
    "        'min_samples_split': trial.suggest_int('min_samples_split', 2, 10),\n",
    "        'min_samples_leaf': trial.suggest_int('min_samples_leaf', 1, 4)\n",
    "    }\n",
    "    model = RandomForestClassifier(**param)\n",
    "    model.fit(X_train, y_train)\n",
    "    y_pred = model.predict(X_test)\n",
    "    accuracy = accuracy_score(y_test, y_pred)\n",
    "    return accuracy\n",
    "\n",
    "study_rf = optuna.create_study(direction='maximize')\n",
    "study_rf.optimize(objective_rf, n_trials=10)\n",
    "\n",
    "# Retrieve the best model and save it\n",
    "best_params_rf = study_rf.best_params\n",
    "best_model_rf = RandomForestClassifier(**best_params_rf)\n",
    "best_model_rf.fit(X_train, y_train)"
   ]
  },
  {
   "cell_type": "code",
   "execution_count": 124,
   "id": "7da71b95-6f59-4f0c-a8a8-9c5a3fccb86a",
   "metadata": {},
   "outputs": [],
   "source": [
    "model = RandomForestClassifier(random_state=85, max_depth=98, n_estimators=5000, min_samples_split=2)"
   ]
  },
  {
   "cell_type": "code",
   "execution_count": null,
   "id": "db5086b7-a39c-4410-bec7-eeca1207f661",
   "metadata": {},
   "outputs": [],
   "source": [
    "model.fit(X_train, y_train)"
   ]
  },
  {
   "cell_type": "code",
   "execution_count": null,
   "id": "d5f484af-64db-4c5f-9ec5-230c3b6d2f2e",
   "metadata": {},
   "outputs": [],
   "source": [
    "y_pred = model.predict(X_test)"
   ]
  },
  {
   "cell_type": "code",
   "execution_count": null,
   "id": "d14736ce-c944-429f-b3c4-c7e55bb7042f",
   "metadata": {},
   "outputs": [],
   "source": [
    "from sklearn.metrics import classification_report\n",
    "print(classification_report(y_test, y_pred))"
   ]
  },
  {
   "cell_type": "code",
   "execution_count": null,
   "id": "459f40c6-39ef-460c-8d31-05e03181adad",
   "metadata": {},
   "outputs": [],
   "source": []
  },
  {
   "cell_type": "code",
   "execution_count": null,
   "id": "1b4bee13-5ee6-401f-bdfd-ff6283526cfa",
   "metadata": {},
   "outputs": [],
   "source": []
  }
 ],
 "metadata": {
  "kernelspec": {
   "display_name": "Python 3 (ipykernel)",
   "language": "python",
   "name": "python3"
  },
  "language_info": {
   "codemirror_mode": {
    "name": "ipython",
    "version": 3
   },
   "file_extension": ".py",
   "mimetype": "text/x-python",
   "name": "python",
   "nbconvert_exporter": "python",
   "pygments_lexer": "ipython3",
   "version": "3.12.4"
  }
 },
 "nbformat": 4,
 "nbformat_minor": 5
}
