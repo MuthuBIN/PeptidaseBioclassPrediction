{
 "cells": [
  {
   "cell_type": "code",
   "execution_count": 1,
   "id": "2048ceeb-f910-4a13-91ca-12614983c02a",
   "metadata": {},
   "outputs": [],
   "source": [
    "import pandas as pd\n",
    "from rdkit import Chem\n",
    "from rdkit.Chem import AllChem\n",
    "from sklearn.ensemble import RandomForestClassifier\n",
    "from sklearn.model_selection import train_test_split, cross_val_score\n",
    "import optuna\n",
    "import pickle"
   ]
  },
  {
   "cell_type": "code",
   "execution_count": 3,
   "id": "08477181-c120-40b2-8144-6f0ff8f9765f",
   "metadata": {},
   "outputs": [],
   "source": [
    "# Load dataset\n",
    "# Load data from CSV\n",
    "df = pd.read_csv('Selected_fingerprints.csv')\n",
    "\n",
    "### 5. Define and Optimize the Model with Optuna\n",
    "\n",
    "X = df.drop(['IC50_label', 'smiles'], axis=1)\n",
    "y = df['IC50_label']"
   ]
  },
  {
   "cell_type": "code",
   "execution_count": 5,
   "id": "4a5885fc-b75a-42cd-90d7-a23c11cc105e",
   "metadata": {},
   "outputs": [],
   "source": [
    "# Split the data into training and testing sets\n",
    "X_train, X_test, y_train, y_test = train_test_split(X, y, test_size=0.2, random_state=42)"
   ]
  },
  {
   "cell_type": "code",
   "execution_count": 7,
   "id": "971feffc-5eed-4994-8df0-e7fb5d8f8aee",
   "metadata": {},
   "outputs": [],
   "source": [
    "from sklearn.metrics import accuracy_score"
   ]
  },
  {
   "cell_type": "code",
   "execution_count": null,
   "id": "b3ed8ab4-87a2-4040-9444-e2077c77544d",
   "metadata": {},
   "outputs": [],
   "source": [
    "import optuna\n",
    "from sklearn.ensemble import AdaBoostClassifier\n",
    "from sklearn.tree import DecisionTreeClassifier\n",
    "from sklearn.metrics import accuracy_score\n",
    "\n",
    "def objective_ada(trial):\n",
    "    # Hyperparameter suggestions\n",
    "    n_estimators = trial.suggest_int('n_estimators', 50, 500)\n",
    "    learning_rate = trial.suggest_float('learning_rate', 1e-4, 1e-1, log=True)\n",
    "    algorithm = trial.suggest_categorical('algorithm', ['SAMME', 'SAMME.R'])\n",
    "    \n",
    "    # Base estimator hyperparameters\n",
    "    base_max_depth = trial.suggest_int('base_max_depth', 1, 10)\n",
    "    base_min_samples_split = trial.suggest_int('base_min_samples_split', 2, 20)\n",
    "    base_min_samples_leaf = trial.suggest_int('base_min_samples_leaf', 1, 20)\n",
    "    \n",
    "    # Define the base estimator with suggested hyperparameters\n",
    "    base_estimator = DecisionTreeClassifier(\n",
    "        max_depth=base_max_depth,\n",
    "        min_samples_split=base_min_samples_split,\n",
    "        min_samples_leaf=base_min_samples_leaf,\n",
    "        random_state=42\n",
    "    )\n",
    "    \n",
    "    # Initialize AdaBoostClassifier with the updated parameter\n",
    "    model = AdaBoostClassifier(\n",
    "        estimator=base_estimator,  # Updated parameter name\n",
    "        n_estimators=n_estimators,\n",
    "        learning_rate=learning_rate,\n",
    "        algorithm=algorithm,\n",
    "        random_state=42\n",
    "    )\n",
    "    \n",
    "    # Fit the model (Assuming X_train and y_train are predefined)\n",
    "    model.fit(X_train, y_train)\n",
    "    \n",
    "    # Predict and evaluate accuracy (Assuming X_test and y_test are predefined)\n",
    "    y_pred = model.predict(X_test)\n",
    "    accuracy = accuracy_score(y_test, y_pred)\n",
    "    \n",
    "    return accuracy\n",
    "\n",
    "# Create and optimize the study\n",
    "study_ada = optuna.create_study(direction='maximize')\n",
    "study_ada.optimize(objective_ada, n_trials=100)\n",
    "\n",
    "# Retrieve the best parameters\n",
    "best_params_ada = study_ada.best_params\n",
    "print(\"Best Parameters:\", best_params_ada)"
   ]
  },
  {
   "cell_type": "code",
   "execution_count": null,
   "id": "d471148d-8ce3-4b2d-81ba-edba5aee3a76",
   "metadata": {},
   "outputs": [],
   "source": []
  }
 ],
 "metadata": {
  "kernelspec": {
   "display_name": "Python 3 (ipykernel)",
   "language": "python",
   "name": "python3"
  },
  "language_info": {
   "codemirror_mode": {
    "name": "ipython",
    "version": 3
   },
   "file_extension": ".py",
   "mimetype": "text/x-python",
   "name": "python",
   "nbconvert_exporter": "python",
   "pygments_lexer": "ipython3",
   "version": "3.12.4"
  }
 },
 "nbformat": 4,
 "nbformat_minor": 5
}
